{
 "cells": [
  {
   "cell_type": "markdown",
   "metadata": {},
   "source": [
    "### Add code for testing fitness function"
   ]
  },
  {
   "cell_type": "markdown",
   "metadata": {},
   "source": [
    "Source: Afternoon lecture INF200. 2. June 2020"
   ]
  },
  {
   "cell_type": "code",
   "execution_count": 1,
   "metadata": {},
   "outputs": [],
   "source": [
    "import matplotlib.pyplot as plt\n",
    "import numpy as np"
   ]
  },
  {
   "cell_type": "code",
   "execution_count": 2,
   "metadata": {},
   "outputs": [],
   "source": [
    "def q(sgn, x, xhalf, phi):\n",
    "    return 1./(1. + np.exp(sgn * phi * (x - xhalf)))\n",
    "\n",
    "def fitness(a, w, p):\n",
    "    return (q(+1, a, p['a_half'], p['phi_age'])\n",
    "            * q(-1, w, p['w_half'], p['phi_weight']))"
   ]
  },
  {
   "cell_type": "code",
   "execution_count": null,
   "metadata": {},
   "outputs": [],
   "source": []
  },
  {
   "cell_type": "code",
   "execution_count": 3,
   "metadata": {},
   "outputs": [],
   "source": [
    "age = np.linspace(0, 100, num=101)\n",
    "weight = np.linspace(1, 100, num=100)\n",
    "A, W = np.meshgrid(age, weight)"
   ]
  },
  {
   "cell_type": "code",
   "execution_count": 6,
   "metadata": {},
   "outputs": [],
   "source": [
    "p = {'w_birth' : 8.0,\n",
    "     'sigma_birth' : 1.5,\n",
    "     'beta' : 0.9,\n",
    "     'eta' : 0.05,\n",
    "     'a_half' : 60,\n",
    "     'phi_age' : 0.6,\n",
    "     'w_half' : 10.0,\n",
    "     'phi_weight' : 0.1,\n",
    "     'mu' : 0.25,\n",
    "     'gamma' : 0.2,\n",
    "     'zeta' : 3.5,\n",
    "     'xi' : 1.2,\n",
    "     'omega' : 0.4,\n",
    "     'F' : 10.0}"
   ]
  },
  {
   "cell_type": "code",
   "execution_count": 7,
   "metadata": {},
   "outputs": [
    {
     "data": {
      "text/plain": [
       "Text(0, 0.5, 'Weight')"
      ]
     },
     "execution_count": 7,
     "metadata": {},
     "output_type": "execute_result"
    },
    {
     "data": {
      "image/png": "[encoded data removed]",
      "text/plain": [
       "<Figure size 864x432 with 2 Axes>"
      ]
     },
     "metadata": {
      "needs_background": "light"
     },
     "output_type": "display_data"
    }
   ],
   "source": [
    "plt.figure(figsize=(12, 6))\n",
    "#plt.subplot(1, 2, 1)\n",
    "f = fitness(A, W, p)\n",
    "plt.pcolormesh(age, weight, f, edgecolors='None')\n",
    "plt.colorbar()\n",
    "plt.title('Herbivore title')\n",
    "plt.xlabel('Age')\n",
    "plt.ylabel('Weight')"
   ]
  },
  {
   "cell_type": "code",
   "execution_count": null,
   "metadata": {},
   "outputs": [],
   "source": []
  }
 ],
 "metadata": {
  "kernelspec": {
   "display_name": "Python 3",
   "language": "python",
   "name": "python3"
  },
  "language_info": {
   "codemirror_mode": {
    "name": "ipython",
    "version": 3
   },
   "file_extension": ".py",
   "mimetype": "text/x-python",
   "name": "python",
   "nbconvert_exporter": "python",
   "pygments_lexer": "ipython3",
   "version": "3.8.3"
  }
 },
 "nbformat": 4,
 "nbformat_minor": 4
}
